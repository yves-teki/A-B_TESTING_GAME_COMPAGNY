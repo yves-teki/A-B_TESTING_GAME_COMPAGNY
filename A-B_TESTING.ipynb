{
 "cells": [
  {
   "cell_type": "markdown",
   "id": "a7dd0a69",
   "metadata": {},
   "source": [
    "<div style=\"display: flex; text-align:center; background-color: RGB(58,69,203);border: 1px solid RGB(51,165,182);\" >\n",
    "<h1 style=\"margin: auto;color:RGB(255,255,255); padding: 30px;margin-left: 2em; text-indent: -2em\">A/B TESTING PROJECT\n",
    "    \n",
    "</h1>\n",
    "</div>"
   ]
  },
  {
   "cell_type": "markdown",
   "id": "d14d8275",
   "metadata": {},
   "source": [
    "<div style=\"border-style: double;border-width: 5px;border-color: RGB(58,69,203);\" >\n",
    "<h3 style=\"margin: auto; padding: 10px; color: RGB(51,165,182);margin-left: 4.5em; text-indent: -4.5em\"><a id=\"00\">SOMMAIRE</a> </h3>\n",
    "    \n",
    "  - 1. **[INTRODUCTION](#1)**\n",
    "    \n",
    "  - 2. **[PREPARATION DE DONNEES](#2)**\n",
    "     - 1. [Importation des librairies et declaration de fonctions](#21)\n",
    "     - 2. [Qualité des données](#22)\n",
    "     - 3. [Nettoyage des données](#23)\n",
    "  \n",
    "  - 3. **[ANALYSES DESCRIPTIVES](#3)**\n",
    "     - 1. [Analyses univariées](#31)\n",
    "     - 2. [Analyses bivariées](#32)\n",
    "    \n",
    "  - 4. **[A/B TEST](#4)**\n",
    "     - 1. [Test](#41)\n",
    "     - 2. [Recommandations](#42)\n",
    "    \n",
    "  - 5. **[CONCLUSION](#5)**\n",
    "</div>\n"
   ]
  },
  {
   "cell_type": "markdown",
   "id": "c831dafc",
   "metadata": {},
   "source": [
    "<div style=\"background-color: RGB(58,69,203);\" >\n",
    "<h2 style=\"margin: auto;color:RGB(255,255,255) ;padding: 20px;margin-left: 4.5em; text-indent: -4.5em\">1 - INTRODUCTION</h2>\n",
    "</div>"
   ]
  },
  {
   "cell_type": "markdown",
   "id": "e1f5e0bf",
   "metadata": {},
   "source": [
    "\"Cookie Cats\" est un jeu mobile de puzzle extrêmement populaire développé par Tactile Entertainment.<br>C’est un jeu de puzzle classique de type \"connectez trois\" où le joueur doit relier des tuiles de la même couleur pour vider le plateau et gagner le niveau.<br> \n",
    "\n",
    "Au fur et à mesure de la progression des joueurs dans le jeu, ils rencontrent des portails qui les obligent à attendre un certain temps avant de continuer ou à effectuer un achat intégré.<br>\n",
    "\n",
    "Dans ce projet, nous analyserons les résultats d’un test A/B où le premier portail dans \"Cookie Cats\" a été déplacé du niveau 30 au niveau 40.<br> Nous examinerons en particulier l’impact de ce changement sur la rétention des joueurs et le nombre de manches jouées."
   ]
  },
  {
   "cell_type": "markdown",
   "id": "e10420d7",
   "metadata": {},
   "source": [
    "<div style=\"background-color: RGB(58,69,203);\" >\n",
    "<h2 style=\"margin: auto;color:RGB(255,255,255) ;padding: 20px;margin-left: 4.5em; text-indent: -4.5em\">2 - PREPARATION DE DONNEES</h2>\n",
    "</div>"
   ]
  },
  {
   "cell_type": "markdown",
   "id": "e89b2d35",
   "metadata": {},
   "source": [
    "<div style=\"border: 1px solid RGB(58,69,203);\" >\n",
    "<h3 style=\"margin: auto; padding: 10px;margin-left: 4.5em; text-indent: -4.5em\"><a id=\"11\">1 - 1. Importation des librairies et declaration de fonctions</a></h3>\n",
    "</div>"
   ]
  },
  {
   "cell_type": "code",
   "execution_count": 26,
   "id": "e9e54f1a",
   "metadata": {},
   "outputs": [],
   "source": [
    "%matplotlib inline\n",
    "#plt.style.use('seaborn-whitegrid')\n",
    "# Base\n",
    "# -----------------------------------\n",
    "import numpy as np\n",
    "import pandas as pd \n",
    "import seaborn as sns\n",
    "import matplotlib.pyplot as plt\n",
    "import matplotlib\n",
    "import os\n",
    "\n",
    "# Hypothesis Testing\n",
    "# -----------------------------------\n",
    "from scipy.stats import shapiro\n",
    "import scipy.stats as stats\n",
    "\n",
    "# Configuration\n",
    "# -----------------------------------\n",
    "import warnings\n",
    "warnings.filterwarnings(\"ignore\")\n",
    "warnings.simplefilter(action='ignore', category=FutureWarning)\n",
    "\n",
    "pd.set_option('display.max_columns', None)\n",
    "pd.options.display.float_format = '{:.4f}'.format\n",
    "pd.set_option('display.max_row',100)"
   ]
  },
  {
   "cell_type": "code",
   "execution_count": 37,
   "id": "917acbfb",
   "metadata": {},
   "outputs": [
    {
     "name": "stdout",
     "output_type": "stream",
     "text": [
      "Les versions ont été écrites dans 'requirements.txt'.\n",
      "Contenu du fichier requirements.txt :\n",
      "pandas==1.3.4\n",
      "numpy==1.26.4\n",
      "seaborn==0.11.2\n",
      "matplotlib==3.4.3\n",
      "scipy==1.6.2\n"
     ]
    }
   ],
   "source": [
    "# Requirements\n",
    "\n",
    "import matplotlib\n",
    "import scipy\n",
    "\n",
    "# Récupérer les versions des bibliothèques\n",
    "versions = [\n",
    "    f\"pandas=={pd.__version__}\",\n",
    "    f\"numpy=={np.__version__}\",\n",
    "    f\"seaborn=={sns.__version__}\",\n",
    "    f\"matplotlib=={matplotlib.__version__}\",\n",
    "    f\"scipy=={scipy.__version__}\"\n",
    "]\n",
    "\n",
    "# Écrire dans un fichier .txt\n",
    "with open(\"requirements.txt\", \"w\") as file:\n",
    "    file.write(\"\\n\".join(versions))\n",
    "\n",
    "print(\"Les versions ont été écrites dans 'requirements.txt'.\")\n",
    "\n",
    "# Lire et afficher le contenu du fichier\n",
    "with open(\"requirements.txt\", \"r\") as file:\n",
    "    content = file.read()\n",
    "\n",
    "print(\"Contenu du fichier requirements.txt :\")\n",
    "print(content)"
   ]
  },
  {
   "cell_type": "code",
   "execution_count": 40,
   "id": "1ddbd228",
   "metadata": {},
   "outputs": [],
   "source": [
    "# Declaration d'une fonction A/B Testing - Solution rapide\n",
    "\n",
    "#Methode\n",
    "\n",
    "#Hypothèse:\n",
    "#---Vérifier la normalité\n",
    "#---Si distribution normale, vérifier l'homogénéité\n",
    "\n",
    "#Steps:\n",
    "#---Diviser et définir le groupe de contrôle et le groupe de test\n",
    "#---Appliquer le test de Shapiro pour la normalité\n",
    "#---Si paramétrique, appliquer le test de Levene pour l'homogénéité des variances\n",
    "#---Si paramétrique + homogénéité des variances, appliquer le test T\n",
    "#---Si paramétrique - homogénéité des variances, appliquer le test de Welch\n",
    "#---Si non paramétrique, appliquer directement le test de Mann Whitney U\n",
    "#---Formater le resultat pour la présentation \n",
    "\n",
    "def AB_Test(dataframe, group, target):\n",
    "    \n",
    "    # Packages\n",
    "    from scipy.stats import shapiro\n",
    "    import scipy.stats as stats\n",
    "    \n",
    "    # Split A/B\n",
    "    groupA = dataframe[dataframe[group] == \"A\"][target]\n",
    "    groupB = dataframe[dataframe[group] == \"B\"][target]\n",
    "    \n",
    "    # Assumption: Normality\n",
    "    ntA = shapiro(groupA)[1] < 0.05\n",
    "    ntB = shapiro(groupB)[1] < 0.05\n",
    "    # H0: Distribution is Normal! - False\n",
    "    # H1: Distribution is not Normal! - True\n",
    "    \n",
    "    if (ntA == False) & (ntB == False): # \"H0: Normal Distribution\"\n",
    "        # Parametric Test\n",
    "        # Assumption: Homogeneity of variances\n",
    "        leveneTest = stats.levene(groupA, groupB)[1] < 0.05\n",
    "        # H0: Homogeneity: False\n",
    "        # H1: Heterogeneous: True\n",
    "        \n",
    "        if leveneTest == False:\n",
    "            # Homogeneity\n",
    "            ttest = stats.ttest_ind(groupA, groupB, equal_var=True)[1]\n",
    "            # H0: M1 == M2 - False\n",
    "            # H1: M1 != M2 - True\n",
    "        else:\n",
    "            # Heterogeneous\n",
    "            ttest = stats.ttest_ind(groupA, groupB, equal_var=False)[1]\n",
    "            # H0: M1 == M2 - False\n",
    "            # H1: M1 != M2 - True\n",
    "    else:\n",
    "        # Non-Parametric Test\n",
    "        ttest = stats.mannwhitneyu(groupA, groupB)[1] \n",
    "        # H0: M1 == M2 - False\n",
    "        # H1: M1 != M2 - True\n",
    "        \n",
    "    # Result\n",
    "    temp = pd.DataFrame({\n",
    "        \"AB Hypothesis\":[ttest < 0.05], \n",
    "        \"p-value\":[ttest]\n",
    "    })\n",
    "    temp[\"Test Type\"] = np.where((ntA == False) & (ntB == False), \"Parametric\", \"Non-Parametric\")\n",
    "    temp[\"AB Hypothesis\"] = np.where(temp[\"AB Hypothesis\"] == False, \"Fail to Reject H0\", \"Reject H0\")\n",
    "    temp[\"Comment\"] = np.where(temp[\"AB Hypothesis\"] == \"Fail to Reject H0\", \"A/B groups are similar!\", \"A/B groups are not similar!\")\n",
    "    \n",
    "    # Columns\n",
    "    if (ntA == False) & (ntB == False):\n",
    "        temp[\"Homogeneity\"] = np.where(leveneTest == False, \"Yes\", \"No\")\n",
    "        temp = temp[[\"Test Type\", \"Homogeneity\",\"AB Hypothesis\", \"p-value\", \"Comment\"]]\n",
    "    else:\n",
    "        temp = temp[[\"Test Type\",\"AB Hypothesis\", \"p-value\", \"Comment\"]]\n",
    "    \n",
    "    # Print Hypothesis\n",
    "    print(\"# A/B Testing Hypothesis\")\n",
    "    print(\"H0: A == B\")\n",
    "    print(\"H1: A != B\", \"\\n\")\n",
    "    \n",
    "    return temp"
   ]
  },
  {
   "cell_type": "markdown",
   "id": "ddc65395",
   "metadata": {},
   "source": [
    "<div style=\"border: 1px solid RGB(58,69,203);\" >\n",
    "<h3 style=\"margin: auto; padding: 10px;margin-left: 4.5em; text-indent: -4.5em\"><a id=\"12\">1 - 2. Qualité des données</a></h3>\n",
    "</div>"
   ]
  },
  {
   "cell_type": "code",
   "execution_count": 42,
   "id": "9bdf4223",
   "metadata": {},
   "outputs": [
    {
     "data": {
      "text/html": [
       "<div>\n",
       "<style scoped>\n",
       "    .dataframe tbody tr th:only-of-type {\n",
       "        vertical-align: middle;\n",
       "    }\n",
       "\n",
       "    .dataframe tbody tr th {\n",
       "        vertical-align: top;\n",
       "    }\n",
       "\n",
       "    .dataframe thead th {\n",
       "        text-align: right;\n",
       "    }\n",
       "</style>\n",
       "<table border=\"1\" class=\"dataframe\">\n",
       "  <thead>\n",
       "    <tr style=\"text-align: right;\">\n",
       "      <th></th>\n",
       "      <th>userid</th>\n",
       "      <th>version</th>\n",
       "      <th>sum_gamerounds</th>\n",
       "      <th>retention_1</th>\n",
       "      <th>retention_7</th>\n",
       "    </tr>\n",
       "  </thead>\n",
       "  <tbody>\n",
       "    <tr>\n",
       "      <th>0</th>\n",
       "      <td>116</td>\n",
       "      <td>gate_30</td>\n",
       "      <td>3</td>\n",
       "      <td>False</td>\n",
       "      <td>False</td>\n",
       "    </tr>\n",
       "    <tr>\n",
       "      <th>1</th>\n",
       "      <td>337</td>\n",
       "      <td>gate_30</td>\n",
       "      <td>38</td>\n",
       "      <td>True</td>\n",
       "      <td>False</td>\n",
       "    </tr>\n",
       "    <tr>\n",
       "      <th>2</th>\n",
       "      <td>377</td>\n",
       "      <td>gate_40</td>\n",
       "      <td>165</td>\n",
       "      <td>True</td>\n",
       "      <td>False</td>\n",
       "    </tr>\n",
       "    <tr>\n",
       "      <th>3</th>\n",
       "      <td>483</td>\n",
       "      <td>gate_40</td>\n",
       "      <td>1</td>\n",
       "      <td>False</td>\n",
       "      <td>False</td>\n",
       "    </tr>\n",
       "    <tr>\n",
       "      <th>4</th>\n",
       "      <td>488</td>\n",
       "      <td>gate_40</td>\n",
       "      <td>179</td>\n",
       "      <td>True</td>\n",
       "      <td>True</td>\n",
       "    </tr>\n",
       "  </tbody>\n",
       "</table>\n",
       "</div>"
      ],
      "text/plain": [
       "   userid  version  sum_gamerounds  retention_1  retention_7\n",
       "0     116  gate_30               3        False        False\n",
       "1     337  gate_30              38         True        False\n",
       "2     377  gate_40             165         True        False\n",
       "3     483  gate_40               1        False        False\n",
       "4     488  gate_40             179         True         True"
      ]
     },
     "execution_count": 42,
     "metadata": {},
     "output_type": "execute_result"
    }
   ],
   "source": [
    "ab = pd.read_csv(\".\\data\\input\\cookie_cats.csv\")\n",
    "ab.head()"
   ]
  },
  {
   "cell_type": "code",
   "execution_count": 43,
   "id": "40611527",
   "metadata": {},
   "outputs": [
    {
     "name": "stdout",
     "output_type": "stream",
     "text": [
      "<class 'pandas.core.frame.DataFrame'>\n",
      "RangeIndex: 90189 entries, 0 to 90188\n",
      "Data columns (total 5 columns):\n",
      " #   Column          Non-Null Count  Dtype \n",
      "---  ------          --------------  ----- \n",
      " 0   userid          90189 non-null  int64 \n",
      " 1   version         90189 non-null  object\n",
      " 2   sum_gamerounds  90189 non-null  int64 \n",
      " 3   retention_1     90189 non-null  bool  \n",
      " 4   retention_7     90189 non-null  bool  \n",
      "dtypes: bool(2), int64(2), object(1)\n",
      "memory usage: 2.2+ MB\n"
     ]
    }
   ],
   "source": [
    "ab.info()"
   ]
  },
  {
   "cell_type": "markdown",
   "id": "9c5c1544",
   "metadata": {},
   "source": [
    "1. **userid :** Numero unique qui identifie chaque joueur.\n",
    "2. **version :** Indication sur le groupe d’appartenance des joueurs :</br>\n",
    "Groupe de contrôle : gate_30 - un portail situé au niveau 30.</br>\n",
    "Groupe de test : gate_40 - un portail situé au niveau 40..\n",
    "3. **sum_gamerounds :** Le nombre de manches jouées par le joueur au cours de la première semaine après l'installation.\n",
    "4. **retention_1 :** Le joueur est-il revenu jouer 1 jour après l'installation ?\n",
    "5. **retention_7 :** Le joueur est-il revenu jouer 7 jour après l'installation ?\n"
   ]
  },
  {
   "cell_type": "markdown",
   "id": "978dcdbc",
   "metadata": {},
   "source": [
    "#### DONNEES MANQUANTES"
   ]
  },
  {
   "cell_type": "code",
   "execution_count": 44,
   "id": "bfcc4875",
   "metadata": {},
   "outputs": [
    {
     "data": {
      "text/plain": [
       "userid            0\n",
       "version           0\n",
       "sum_gamerounds    0\n",
       "retention_1       0\n",
       "retention_7       0\n",
       "dtype: int64"
      ]
     },
     "execution_count": 44,
     "metadata": {},
     "output_type": "execute_result"
    }
   ],
   "source": [
    "ab.isnull().sum()"
   ]
  },
  {
   "cell_type": "markdown",
   "id": "8e6ce9eb",
   "metadata": {},
   "source": [
    "Nous n'avons pas de données manquantes"
   ]
  },
  {
   "cell_type": "markdown",
   "id": "6f27489a",
   "metadata": {},
   "source": [
    "#### VALEURS EXTREMES"
   ]
  },
  {
   "cell_type": "code",
   "execution_count": 45,
   "id": "fe59710c",
   "metadata": {},
   "outputs": [
    {
     "name": "stdout",
     "output_type": "stream",
     "text": [
      "True\n"
     ]
    },
    {
     "data": {
      "text/html": [
       "<div>\n",
       "<style scoped>\n",
       "    .dataframe tbody tr th:only-of-type {\n",
       "        vertical-align: middle;\n",
       "    }\n",
       "\n",
       "    .dataframe tbody tr th {\n",
       "        vertical-align: top;\n",
       "    }\n",
       "\n",
       "    .dataframe thead th {\n",
       "        text-align: right;\n",
       "    }\n",
       "</style>\n",
       "<table border=\"1\" class=\"dataframe\">\n",
       "  <thead>\n",
       "    <tr style=\"text-align: right;\">\n",
       "      <th></th>\n",
       "      <th>count</th>\n",
       "      <th>mean</th>\n",
       "      <th>std</th>\n",
       "      <th>min</th>\n",
       "      <th>1%</th>\n",
       "      <th>5%</th>\n",
       "      <th>10%</th>\n",
       "      <th>20%</th>\n",
       "      <th>50%</th>\n",
       "      <th>80%</th>\n",
       "      <th>90%</th>\n",
       "      <th>95%</th>\n",
       "      <th>99%</th>\n",
       "      <th>max</th>\n",
       "    </tr>\n",
       "  </thead>\n",
       "  <tbody>\n",
       "    <tr>\n",
       "      <th>sum_gamerounds</th>\n",
       "      <td>90189.0000</td>\n",
       "      <td>51.8725</td>\n",
       "      <td>195.0509</td>\n",
       "      <td>0.0000</td>\n",
       "      <td>0.0000</td>\n",
       "      <td>1.0000</td>\n",
       "      <td>1.0000</td>\n",
       "      <td>3.0000</td>\n",
       "      <td>16.0000</td>\n",
       "      <td>67.0000</td>\n",
       "      <td>134.0000</td>\n",
       "      <td>221.0000</td>\n",
       "      <td>493.0000</td>\n",
       "      <td>49854.0000</td>\n",
       "    </tr>\n",
       "  </tbody>\n",
       "</table>\n",
       "</div>"
      ],
      "text/plain": [
       "                    count    mean      std    min     1%     5%    10%    20%  \\\n",
       "sum_gamerounds 90189.0000 51.8725 195.0509 0.0000 0.0000 1.0000 1.0000 3.0000   \n",
       "\n",
       "                   50%     80%      90%      95%      99%        max  \n",
       "sum_gamerounds 16.0000 67.0000 134.0000 221.0000 493.0000 49854.0000  "
      ]
     },
     "execution_count": 45,
     "metadata": {},
     "output_type": "execute_result"
    }
   ],
   "source": [
    "# Nombre de joueurs unique\n",
    "print(ab.userid.nunique() == ab.shape[0])\n",
    "#  Stats recapitulatives : sum_gamerounds\n",
    "ab.describe([0.01, 0.05, 0.10, 0.20, 0.80, 0.90, 0.95, 0.99])[[\"sum_gamerounds\"]].T"
   ]
  },
  {
   "cell_type": "code",
   "execution_count": 46,
   "id": "18ffe9b1",
   "metadata": {},
   "outputs": [
    {
     "data": {
      "text/html": [
       "<div>\n",
       "<style scoped>\n",
       "    .dataframe tbody tr th:only-of-type {\n",
       "        vertical-align: middle;\n",
       "    }\n",
       "\n",
       "    .dataframe tbody tr th {\n",
       "        vertical-align: top;\n",
       "    }\n",
       "\n",
       "    .dataframe thead th {\n",
       "        text-align: right;\n",
       "    }\n",
       "</style>\n",
       "<table border=\"1\" class=\"dataframe\">\n",
       "  <thead>\n",
       "    <tr style=\"text-align: right;\">\n",
       "      <th></th>\n",
       "      <th>count</th>\n",
       "      <th>median</th>\n",
       "      <th>mean</th>\n",
       "      <th>std</th>\n",
       "      <th>max</th>\n",
       "    </tr>\n",
       "    <tr>\n",
       "      <th>version</th>\n",
       "      <th></th>\n",
       "      <th></th>\n",
       "      <th></th>\n",
       "      <th></th>\n",
       "      <th></th>\n",
       "    </tr>\n",
       "  </thead>\n",
       "  <tbody>\n",
       "    <tr>\n",
       "      <th>gate_30</th>\n",
       "      <td>44700</td>\n",
       "      <td>17.0000</td>\n",
       "      <td>52.4563</td>\n",
       "      <td>256.7164</td>\n",
       "      <td>49854</td>\n",
       "    </tr>\n",
       "    <tr>\n",
       "      <th>gate_40</th>\n",
       "      <td>45489</td>\n",
       "      <td>16.0000</td>\n",
       "      <td>51.2988</td>\n",
       "      <td>103.2944</td>\n",
       "      <td>2640</td>\n",
       "    </tr>\n",
       "  </tbody>\n",
       "</table>\n",
       "</div>"
      ],
      "text/plain": [
       "         count  median    mean      std    max\n",
       "version                                       \n",
       "gate_30  44700 17.0000 52.4563 256.7164  49854\n",
       "gate_40  45489 16.0000 51.2988 103.2944   2640"
      ]
     },
     "execution_count": 46,
     "metadata": {},
     "output_type": "execute_result"
    }
   ],
   "source": [
    "#Groupes A/B et statistiques récapitulatives\n",
    "ab.groupby(\"version\").sum_gamerounds.agg([\"count\", \"median\", \"mean\", \"std\", \"max\"])"
   ]
  },
  {
   "cell_type": "markdown",
   "id": "6dae6465",
   "metadata": {},
   "source": [
    "Interpretation</br>\n",
    "gate_30 : L'écart-type (256.71) est presque 5 fois supérieur à la moyenne (52.46), ce qui montre une grande dispersion. </br>La valeur maximale (49854) est énorme comparée à la moyenne, suggérant une possible valeur extrême.</br>\n",
    "gate_40 : L'écart-type (103.29) est 2 fois la moyenne (51.30), ce qui montre une dispersion plus faible.</br> La valeur maximale (2640) est élevée, mais bien moins disproportionnée par rapport à gate_30."
   ]
  },
  {
   "cell_type": "code",
   "execution_count": 47,
   "id": "eabb7cf7",
   "metadata": {},
   "outputs": [
    {
     "data": {
      "image/png": "[encoded data removed]",
      "text/plain": [
       "<Figure size 1296x360 with 3 Axes>"
      ]
     },
     "metadata": {
      "needs_background": "light"
     },
     "output_type": "display_data"
    }
   ],
   "source": [
    "fig, axes = plt.subplots(1, 3, figsize = (18,5))\n",
    "ab[(ab.version == \"gate_30\")].hist(\"sum_gamerounds\", ax = axes[0], color = \"steelblue\")\n",
    "ab[(ab.version == \"gate_40\")].hist(\"sum_gamerounds\", ax = axes[1], color = \"steelblue\")\n",
    "sns.boxplot(x = ab.version, y = ab.sum_gamerounds, ax = axes[2])\n",
    "\n",
    "plt.suptitle(\"Avant la suppression de la valeur extrême\", fontsize = 20)\n",
    "axes[0].set_title(\"Distribution of Gate 30 (A)\", fontsize = 15)\n",
    "axes[1].set_title(\"Distribution of Gate 40 (B)\", fontsize = 15)\n",
    "axes[2].set_title(\"Distribution of Two Groups\", fontsize = 15)\n",
    "\n",
    "plt.tight_layout(pad = 4);"
   ]
  },
  {
   "cell_type": "code",
   "execution_count": 48,
   "id": "f6e723c1",
   "metadata": {},
   "outputs": [
    {
     "data": {
      "image/png": "[encoded data removed]",
      "text/plain": [
       "<Figure size 1440x360 with 1 Axes>"
      ]
     },
     "metadata": {
      "needs_background": "light"
     },
     "output_type": "display_data"
    }
   ],
   "source": [
    "ab[ab.version == \"gate_30\"].reset_index().set_index(\"index\").sum_gamerounds.plot(legend = True, label = \"Gate 30\", figsize = (20,5))\n",
    "ab[ab.version == \"gate_40\"].reset_index().set_index(\"index\").sum_gamerounds.plot(legend = True, label = \"Gate 40\")\n",
    "plt.suptitle(\"Avant la suppression de la valeur extrême\", fontsize = 20);"
   ]
  },
  {
   "cell_type": "markdown",
   "id": "58155406",
   "metadata": {},
   "source": [
    "Interpretation</br>\n",
    "On observe bien que Gate_30 a une valeur extrême . Nous la supprimons pour la suite de l'analyse"
   ]
  },
  {
   "cell_type": "code",
   "execution_count": 49,
   "id": "c617d5e1",
   "metadata": {},
   "outputs": [
    {
     "data": {
      "text/html": [
       "<div>\n",
       "<style scoped>\n",
       "    .dataframe tbody tr th:only-of-type {\n",
       "        vertical-align: middle;\n",
       "    }\n",
       "\n",
       "    .dataframe tbody tr th {\n",
       "        vertical-align: top;\n",
       "    }\n",
       "\n",
       "    .dataframe thead th {\n",
       "        text-align: right;\n",
       "    }\n",
       "</style>\n",
       "<table border=\"1\" class=\"dataframe\">\n",
       "  <thead>\n",
       "    <tr style=\"text-align: right;\">\n",
       "      <th></th>\n",
       "      <th>count</th>\n",
       "      <th>mean</th>\n",
       "      <th>std</th>\n",
       "      <th>min</th>\n",
       "      <th>1%</th>\n",
       "      <th>5%</th>\n",
       "      <th>10%</th>\n",
       "      <th>20%</th>\n",
       "      <th>50%</th>\n",
       "      <th>80%</th>\n",
       "      <th>90%</th>\n",
       "      <th>95%</th>\n",
       "      <th>99%</th>\n",
       "      <th>max</th>\n",
       "    </tr>\n",
       "  </thead>\n",
       "  <tbody>\n",
       "    <tr>\n",
       "      <th>sum_gamerounds</th>\n",
       "      <td>90188.0000</td>\n",
       "      <td>51.3203</td>\n",
       "      <td>102.6827</td>\n",
       "      <td>0.0000</td>\n",
       "      <td>0.0000</td>\n",
       "      <td>1.0000</td>\n",
       "      <td>1.0000</td>\n",
       "      <td>3.0000</td>\n",
       "      <td>16.0000</td>\n",
       "      <td>67.0000</td>\n",
       "      <td>134.0000</td>\n",
       "      <td>221.0000</td>\n",
       "      <td>493.0000</td>\n",
       "      <td>2961.0000</td>\n",
       "    </tr>\n",
       "  </tbody>\n",
       "</table>\n",
       "</div>"
      ],
      "text/plain": [
       "                    count    mean      std    min     1%     5%    10%    20%  \\\n",
       "sum_gamerounds 90188.0000 51.3203 102.6827 0.0000 0.0000 1.0000 1.0000 3.0000   \n",
       "\n",
       "                   50%     80%      90%      95%      99%       max  \n",
       "sum_gamerounds 16.0000 67.0000 134.0000 221.0000 493.0000 2961.0000  "
      ]
     },
     "execution_count": 49,
     "metadata": {},
     "output_type": "execute_result"
    }
   ],
   "source": [
    "# suppression de l'outlier\n",
    "ab = ab[ab.sum_gamerounds < ab.sum_gamerounds.max()]\n",
    "\n",
    "# Summary Stats: sum_gamerounds\n",
    "ab.describe([0.01, 0.05, 0.10, 0.20, 0.80, 0.90, 0.95, 0.99])[[\"sum_gamerounds\"]].T"
   ]
  },
  {
   "cell_type": "code",
   "execution_count": 50,
   "id": "eb10f0e0",
   "metadata": {},
   "outputs": [
    {
     "data": {
      "image/png": "[encoded data removed]",
      "text/plain": [
       "<Figure size 1296x360 with 4 Axes>"
      ]
     },
     "metadata": {
      "needs_background": "light"
     },
     "output_type": "display_data"
    }
   ],
   "source": [
    "fig, axes = plt.subplots(1, 4, figsize = (18,5))\n",
    "ab.sum_gamerounds.hist(ax = axes[0], color = \"steelblue\")\n",
    "ab[(ab.version == \"gate_30\")].hist(\"sum_gamerounds\", ax = axes[1], color = \"steelblue\")\n",
    "ab[(ab.version == \"gate_40\")].hist(\"sum_gamerounds\", ax = axes[2], color = \"steelblue\")\n",
    "sns.boxplot(x = ab.version, y = ab.sum_gamerounds, ax = axes[3])\n",
    "\n",
    "plt.suptitle(\"Après suppression des valeurs extrêmes\", fontsize = 20)\n",
    "axes[0].set_title(\"Distribution du nombre total de manches jouées\", fontsize = 17)\n",
    "axes[1].set_title(\"Distribution du portail 30 (A)\", fontsize = 17)\n",
    "axes[2].set_title(\"Distribution du portail 40 (B)\", fontsize = 17)\n",
    "axes[3].set_title(\"Distribution des deux groupes\", fontsize = 17)\n",
    "\n",
    "plt.tight_layout(pad = 4);"
   ]
  },
  {
   "cell_type": "code",
   "execution_count": 51,
   "id": "852bd2c5",
   "metadata": {},
   "outputs": [
    {
     "data": {
      "image/png": "[encoded data removed]",
      "text/plain": [
       "<Figure size 1440x360 with 1 Axes>"
      ]
     },
     "metadata": {
      "needs_background": "light"
     },
     "output_type": "display_data"
    }
   ],
   "source": [
    "ab[(ab.version == \"gate_30\")].reset_index().set_index(\"index\").sum_gamerounds.plot(legend = True, label = \"Gate 30\", figsize = (20,5))\n",
    "ab[ab.version == \"gate_40\"].reset_index().set_index(\"index\").sum_gamerounds.plot(legend = True, label = \"Gate 40\", alpha = 0.8)\n",
    "plt.suptitle(\"Après suppression des valeurs extrêmes\", fontsize = 20);"
   ]
  },
  {
   "cell_type": "markdown",
   "id": "aa268bb1",
   "metadata": {},
   "source": [
    "<div style=\"background-color: RGB(58,69,203);\" >\n",
    "<h2 style=\"margin: auto;color:RGB(255,255,255) ;padding: 20px;margin-left: 4.5em; text-indent: -4.5em\">3 - ANALYSES</h2>\n",
    "</div>"
   ]
  },
  {
   "cell_type": "markdown",
   "id": "f30fee23",
   "metadata": {},
   "source": [
    "#### COMPORTEMENTS DES JOUEURS"
   ]
  },
  {
   "cell_type": "code",
   "execution_count": 52,
   "id": "dd46cb41",
   "metadata": {},
   "outputs": [
    {
     "data": {
      "text/html": [
       "<div>\n",
       "<style scoped>\n",
       "    .dataframe tbody tr th:only-of-type {\n",
       "        vertical-align: middle;\n",
       "    }\n",
       "\n",
       "    .dataframe tbody tr th {\n",
       "        vertical-align: top;\n",
       "    }\n",
       "\n",
       "    .dataframe thead th {\n",
       "        text-align: right;\n",
       "    }\n",
       "</style>\n",
       "<table border=\"1\" class=\"dataframe\">\n",
       "  <thead>\n",
       "    <tr style=\"text-align: right;\">\n",
       "      <th></th>\n",
       "      <th>sum_gamerounds</th>\n",
       "      <th>userid</th>\n",
       "    </tr>\n",
       "  </thead>\n",
       "  <tbody>\n",
       "    <tr>\n",
       "      <th>0</th>\n",
       "      <td>0</td>\n",
       "      <td>3994</td>\n",
       "    </tr>\n",
       "    <tr>\n",
       "      <th>1</th>\n",
       "      <td>1</td>\n",
       "      <td>5538</td>\n",
       "    </tr>\n",
       "    <tr>\n",
       "      <th>2</th>\n",
       "      <td>2</td>\n",
       "      <td>4606</td>\n",
       "    </tr>\n",
       "    <tr>\n",
       "      <th>3</th>\n",
       "      <td>3</td>\n",
       "      <td>3958</td>\n",
       "    </tr>\n",
       "    <tr>\n",
       "      <th>4</th>\n",
       "      <td>4</td>\n",
       "      <td>3629</td>\n",
       "    </tr>\n",
       "    <tr>\n",
       "      <th>5</th>\n",
       "      <td>5</td>\n",
       "      <td>2992</td>\n",
       "    </tr>\n",
       "    <tr>\n",
       "      <th>6</th>\n",
       "      <td>6</td>\n",
       "      <td>2861</td>\n",
       "    </tr>\n",
       "    <tr>\n",
       "      <th>7</th>\n",
       "      <td>7</td>\n",
       "      <td>2379</td>\n",
       "    </tr>\n",
       "    <tr>\n",
       "      <th>8</th>\n",
       "      <td>8</td>\n",
       "      <td>2267</td>\n",
       "    </tr>\n",
       "    <tr>\n",
       "      <th>9</th>\n",
       "      <td>9</td>\n",
       "      <td>2013</td>\n",
       "    </tr>\n",
       "  </tbody>\n",
       "</table>\n",
       "</div>"
      ],
      "text/plain": [
       "   sum_gamerounds  userid\n",
       "0               0    3994\n",
       "1               1    5538\n",
       "2               2    4606\n",
       "3               3    3958\n",
       "4               4    3629\n",
       "5               5    2992\n",
       "6               6    2861\n",
       "7               7    2379\n",
       "8               8    2267\n",
       "9               9    2013"
      ]
     },
     "execution_count": 52,
     "metadata": {},
     "output_type": "execute_result"
    }
   ],
   "source": [
    "ab.groupby(\"sum_gamerounds\").userid.count().reset_index().head(10)"
   ]
  },
  {
   "cell_type": "code",
   "execution_count": 53,
   "id": "ddfa243c",
   "metadata": {},
   "outputs": [
    {
     "data": {
      "image/png": "[encoded data removed]",
      "text/plain": [
       "<Figure size 1800x720 with 2 Axes>"
      ]
     },
     "metadata": {
      "needs_background": "light"
     },
     "output_type": "display_data"
    }
   ],
   "source": [
    "fig, axes = plt.subplots(2, 1, figsize = (25,10))\n",
    "ab.groupby(\"sum_gamerounds\").userid.count().plot(ax = axes[0])\n",
    "ab.groupby(\"sum_gamerounds\").userid.count()[:200].plot(ax = axes[1])\n",
    "plt.suptitle(\"Le nombre d'utilisateurs dans les manches jouées\", fontsize = 25)\n",
    "axes[0].set_title(\"Combien d'utilisateurs y a-t-il dans toutes les manches jouées ?\", fontsize = 20)\n",
    "axes[1].set_title(\"Combien d'utilisateurs y a-t-il dans les 200 premières manches jouées ?\", fontsize = 20)\n",
    "plt.tight_layout(pad=5);"
   ]
  },
  {
   "cell_type": "markdown",
   "id": "37172307",
   "metadata": {},
   "source": [
    "<a id='details'></a>\n",
    "<h1 style=\"color:DarkSlateBlue\" > QUELQUES COMMENTAIRES</h1>\n",
    "\n",
    "**Les utilisateurs installent le jeu mais 3994 utilisateurs n'ont jamais joué !** Certaines raisons pourraient expliquer cette situation.\n",
    "\n",
    "- Ils n'ont pas le temps libre pour jouer le jeu\n",
    "- Les utilisateurs pourraient préférer jouer à d'autres jeux ou ils jouent déjà à d'autres jeux.\n",
    "- Certains utilisateurs n'aiment pas l'application, etc.\n",
    "\n",
    "**Le nombre d'utilisateurs diminue à mesure que les niveaux progressent**\n",
    "\n",
    "- La plupart des utilisateurs ont joué au jeu à un stade précoce et n'ont pas progressé.\n",
    "- Tactile Entertainment devrait comprendre pourquoi les utilisateurs abandonnent le jeu.\n",
    "- Faire des recherches et collecter des données sur le jeu et les utilisateurs aiderait à comprendre l'abandon des utilisateurs.\n",
    "- La difficulté du jeu peut être mesurée.\n",
    "- Les cadeaux pourraient aider à la rétention des joueurs.\n",
    "\n",
    "  ***Une analyse plus spécifique sur le problématique du \"Users Churn\" devrait être ménée pour comprendre le depart des joueurs.***"
   ]
  },
  {
   "cell_type": "markdown",
   "id": "3fa4ad59",
   "metadata": {},
   "source": [
    "<div style=\"background-color: RGB(58,69,203);\" >\n",
    "<h2 style=\"margin: auto;color:RGB(255,255,255) ;padding: 20px;margin-left: 4.5em; text-indent: -4.5em\">4 - A/B TESTING</h2>\n",
    "</div>"
   ]
  },
  {
   "cell_type": "code",
   "execution_count": 15,
   "id": "f4224399",
   "metadata": {},
   "outputs": [
    {
     "data": {
      "text/plain": [
       "sum_gamerounds\n",
       "30    642\n",
       "40    505\n",
       "Name: userid, dtype: int64"
      ]
     },
     "execution_count": 15,
     "metadata": {},
     "output_type": "execute_result"
    }
   ],
   "source": [
    "#Combien d'utilisateurs ont atteint les niveaux portail 30 et portail 40 ?\n",
    "ab.groupby(\"sum_gamerounds\").userid.count().loc[[30,40]]"
   ]
  },
  {
   "cell_type": "markdown",
   "id": "50dd436b",
   "metadata": {},
   "source": [
    "En examinant les statistiques récapitulatives, les groupes de contrôle et de test semblent similaires, mais ces deux groupes sont-ils statistiquement significatifs ? Nous allons examiner cela d'un point de vue statistique."
   ]
  },
  {
   "cell_type": "code",
   "execution_count": 16,
   "id": "58e28226",
   "metadata": {},
   "outputs": [
    {
     "data": {
      "text/html": [
       "<div>\n",
       "<style scoped>\n",
       "    .dataframe tbody tr th:only-of-type {\n",
       "        vertical-align: middle;\n",
       "    }\n",
       "\n",
       "    .dataframe tbody tr th {\n",
       "        vertical-align: top;\n",
       "    }\n",
       "\n",
       "    .dataframe thead th {\n",
       "        text-align: right;\n",
       "    }\n",
       "</style>\n",
       "<table border=\"1\" class=\"dataframe\">\n",
       "  <thead>\n",
       "    <tr style=\"text-align: right;\">\n",
       "      <th></th>\n",
       "      <th>count</th>\n",
       "      <th>median</th>\n",
       "      <th>mean</th>\n",
       "      <th>std</th>\n",
       "      <th>max</th>\n",
       "    </tr>\n",
       "    <tr>\n",
       "      <th>version</th>\n",
       "      <th></th>\n",
       "      <th></th>\n",
       "      <th></th>\n",
       "      <th></th>\n",
       "      <th></th>\n",
       "    </tr>\n",
       "  </thead>\n",
       "  <tbody>\n",
       "    <tr>\n",
       "      <th>gate_30</th>\n",
       "      <td>44699</td>\n",
       "      <td>17.0000</td>\n",
       "      <td>51.3421</td>\n",
       "      <td>102.0576</td>\n",
       "      <td>2961</td>\n",
       "    </tr>\n",
       "    <tr>\n",
       "      <th>gate_40</th>\n",
       "      <td>45489</td>\n",
       "      <td>16.0000</td>\n",
       "      <td>51.2988</td>\n",
       "      <td>103.2944</td>\n",
       "      <td>2640</td>\n",
       "    </tr>\n",
       "  </tbody>\n",
       "</table>\n",
       "</div>"
      ],
      "text/plain": [
       "         count  median    mean      std   max\n",
       "version                                      \n",
       "gate_30  44699 17.0000 51.3421 102.0576  2961\n",
       "gate_40  45489 16.0000 51.2988 103.2944  2640"
      ]
     },
     "execution_count": 16,
     "metadata": {},
     "output_type": "execute_result"
    }
   ],
   "source": [
    "# Statistiques descriptives des groupe de contrôle et de test\n",
    "ab.groupby(\"version\").sum_gamerounds.agg([\"count\", \"median\", \"mean\", \"std\", \"max\"])"
   ]
  },
  {
   "cell_type": "markdown",
   "id": "f2598277",
   "metadata": {},
   "source": [
    "**Les variables de rétention nous donnent des détails sur la rétention des joueurs.**\n",
    "\n",
    "<li><code>retention_1</code> - le joueur est-il revenu jouer 1 jour après l'installation ?</li> <li><code>retention_7</code> - le joueur est-il revenu jouer 7 jours après l'installation ?</li>\n",
    "\n"
   ]
  },
  {
   "cell_type": "code",
   "execution_count": 17,
   "id": "1c38bcae",
   "metadata": {},
   "outputs": [
    {
     "data": {
      "text/html": [
       "<div>\n",
       "<style scoped>\n",
       "    .dataframe tbody tr th:only-of-type {\n",
       "        vertical-align: middle;\n",
       "    }\n",
       "\n",
       "    .dataframe tbody tr th {\n",
       "        vertical-align: top;\n",
       "    }\n",
       "\n",
       "    .dataframe thead th {\n",
       "        text-align: right;\n",
       "    }\n",
       "</style>\n",
       "<table border=\"1\" class=\"dataframe\">\n",
       "  <thead>\n",
       "    <tr style=\"text-align: right;\">\n",
       "      <th></th>\n",
       "      <th>RET1_COUNT</th>\n",
       "      <th>RET7_COUNT</th>\n",
       "      <th>RET1_RATIO</th>\n",
       "      <th>RET7_RATIO</th>\n",
       "    </tr>\n",
       "  </thead>\n",
       "  <tbody>\n",
       "    <tr>\n",
       "      <th>False</th>\n",
       "      <td>50035</td>\n",
       "      <td>73408</td>\n",
       "      <td>0.5548</td>\n",
       "      <td>0.8139</td>\n",
       "    </tr>\n",
       "    <tr>\n",
       "      <th>True</th>\n",
       "      <td>40153</td>\n",
       "      <td>16780</td>\n",
       "      <td>0.4452</td>\n",
       "      <td>0.1861</td>\n",
       "    </tr>\n",
       "  </tbody>\n",
       "</table>\n",
       "</div>"
      ],
      "text/plain": [
       "       RET1_COUNT  RET7_COUNT  RET1_RATIO  RET7_RATIO\n",
       "False       50035       73408      0.5548      0.8139\n",
       "True        40153       16780      0.4452      0.1861"
      ]
     },
     "execution_count": 17,
     "metadata": {},
     "output_type": "execute_result"
    }
   ],
   "source": [
    "# Le problème de retention\n",
    "pd.DataFrame({\"RET1_COUNT\": ab[\"retention_1\"].value_counts(),\n",
    "              \"RET7_COUNT\": ab[\"retention_7\"].value_counts(),\n",
    "              \"RET1_RATIO\": ab[\"retention_1\"].value_counts() / len(ab),\n",
    "              \"RET7_RATIO\": ab[\"retention_7\"].value_counts() / len(ab)})"
   ]
  },
  {
   "cell_type": "markdown",
   "id": "291ddf06",
   "metadata": {},
   "source": [
    "Les joueurs ont tendance à ne pas jouer au jeu ! Il y a de nombreux joueurs qui quittent le jeu.\n",
    "\n",
    "55 % des joueurs n'ont pas joué au jeu 1 jour après l'installation.</br>\n",
    "81 % des joueurs n'ont pas joué au jeu 7 jours après l'installation."
   ]
  },
  {
   "cell_type": "code",
   "execution_count": 18,
   "id": "b521d2cf",
   "metadata": {},
   "outputs": [
    {
     "data": {
      "text/html": [
       "<div>\n",
       "<style scoped>\n",
       "    .dataframe tbody tr th:only-of-type {\n",
       "        vertical-align: middle;\n",
       "    }\n",
       "\n",
       "    .dataframe tbody tr th {\n",
       "        vertical-align: top;\n",
       "    }\n",
       "\n",
       "    .dataframe thead th {\n",
       "        text-align: right;\n",
       "    }\n",
       "</style>\n",
       "<table border=\"1\" class=\"dataframe\">\n",
       "  <thead>\n",
       "    <tr style=\"text-align: right;\">\n",
       "      <th></th>\n",
       "      <th></th>\n",
       "      <th>count</th>\n",
       "      <th>median</th>\n",
       "      <th>mean</th>\n",
       "      <th>std</th>\n",
       "      <th>max</th>\n",
       "    </tr>\n",
       "    <tr>\n",
       "      <th>version</th>\n",
       "      <th>retention_1</th>\n",
       "      <th></th>\n",
       "      <th></th>\n",
       "      <th></th>\n",
       "      <th></th>\n",
       "      <th></th>\n",
       "    </tr>\n",
       "  </thead>\n",
       "  <tbody>\n",
       "    <tr>\n",
       "      <th rowspan=\"2\" valign=\"top\">gate_30</th>\n",
       "      <th>False</th>\n",
       "      <td>24665</td>\n",
       "      <td>6.0000</td>\n",
       "      <td>16.3591</td>\n",
       "      <td>36.5284</td>\n",
       "      <td>1072</td>\n",
       "    </tr>\n",
       "    <tr>\n",
       "      <th>True</th>\n",
       "      <td>20034</td>\n",
       "      <td>48.0000</td>\n",
       "      <td>94.4117</td>\n",
       "      <td>135.0377</td>\n",
       "      <td>2961</td>\n",
       "    </tr>\n",
       "    <tr>\n",
       "      <th rowspan=\"2\" valign=\"top\">gate_40</th>\n",
       "      <th>False</th>\n",
       "      <td>25370</td>\n",
       "      <td>6.0000</td>\n",
       "      <td>16.3404</td>\n",
       "      <td>35.9258</td>\n",
       "      <td>1241</td>\n",
       "    </tr>\n",
       "    <tr>\n",
       "      <th>True</th>\n",
       "      <td>20119</td>\n",
       "      <td>49.0000</td>\n",
       "      <td>95.3812</td>\n",
       "      <td>137.8873</td>\n",
       "      <td>2640</td>\n",
       "    </tr>\n",
       "  </tbody>\n",
       "</table>\n",
       "</div>"
      ],
      "text/plain": [
       "                     count  median    mean      std   max\n",
       "version retention_1                                      \n",
       "gate_30 False        24665  6.0000 16.3591  36.5284  1072\n",
       "        True         20034 48.0000 94.4117 135.0377  2961\n",
       "gate_40 False        25370  6.0000 16.3404  35.9258  1241\n",
       "        True         20119 49.0000 95.3812 137.8873  2640"
      ]
     },
     "execution_count": 18,
     "metadata": {},
     "output_type": "execute_result"
    }
   ],
   "source": [
    "ab.groupby([\"version\", \"retention_1\"]).sum_gamerounds.agg([\"count\", \"median\", \"mean\", \"std\", \"max\"])"
   ]
  },
  {
   "cell_type": "code",
   "execution_count": 19,
   "id": "9eae093e",
   "metadata": {},
   "outputs": [
    {
     "data": {
      "text/html": [
       "<div>\n",
       "<style scoped>\n",
       "    .dataframe tbody tr th:only-of-type {\n",
       "        vertical-align: middle;\n",
       "    }\n",
       "\n",
       "    .dataframe tbody tr th {\n",
       "        vertical-align: top;\n",
       "    }\n",
       "\n",
       "    .dataframe thead th {\n",
       "        text-align: right;\n",
       "    }\n",
       "</style>\n",
       "<table border=\"1\" class=\"dataframe\">\n",
       "  <thead>\n",
       "    <tr style=\"text-align: right;\">\n",
       "      <th></th>\n",
       "      <th></th>\n",
       "      <th>count</th>\n",
       "      <th>median</th>\n",
       "      <th>mean</th>\n",
       "      <th>std</th>\n",
       "      <th>max</th>\n",
       "    </tr>\n",
       "    <tr>\n",
       "      <th>version</th>\n",
       "      <th>retention_7</th>\n",
       "      <th></th>\n",
       "      <th></th>\n",
       "      <th></th>\n",
       "      <th></th>\n",
       "      <th></th>\n",
       "    </tr>\n",
       "  </thead>\n",
       "  <tbody>\n",
       "    <tr>\n",
       "      <th rowspan=\"2\" valign=\"top\">gate_30</th>\n",
       "      <th>False</th>\n",
       "      <td>36198</td>\n",
       "      <td>11.0000</td>\n",
       "      <td>25.7965</td>\n",
       "      <td>43.3162</td>\n",
       "      <td>981</td>\n",
       "    </tr>\n",
       "    <tr>\n",
       "      <th>True</th>\n",
       "      <td>8501</td>\n",
       "      <td>105.0000</td>\n",
       "      <td>160.1175</td>\n",
       "      <td>179.3586</td>\n",
       "      <td>2961</td>\n",
       "    </tr>\n",
       "    <tr>\n",
       "      <th rowspan=\"2\" valign=\"top\">gate_40</th>\n",
       "      <th>False</th>\n",
       "      <td>37210</td>\n",
       "      <td>11.0000</td>\n",
       "      <td>25.8564</td>\n",
       "      <td>44.4061</td>\n",
       "      <td>2640</td>\n",
       "    </tr>\n",
       "    <tr>\n",
       "      <th>True</th>\n",
       "      <td>8279</td>\n",
       "      <td>111.0000</td>\n",
       "      <td>165.6498</td>\n",
       "      <td>183.7925</td>\n",
       "      <td>2294</td>\n",
       "    </tr>\n",
       "  </tbody>\n",
       "</table>\n",
       "</div>"
      ],
      "text/plain": [
       "                     count   median     mean      std   max\n",
       "version retention_7                                        \n",
       "gate_30 False        36198  11.0000  25.7965  43.3162   981\n",
       "        True          8501 105.0000 160.1175 179.3586  2961\n",
       "gate_40 False        37210  11.0000  25.8564  44.4061  2640\n",
       "        True          8279 111.0000 165.6498 183.7925  2294"
      ]
     },
     "execution_count": 19,
     "metadata": {},
     "output_type": "execute_result"
    }
   ],
   "source": [
    "ab.groupby([\"version\", \"retention_7\"]).sum_gamerounds.agg([\"count\", \"median\", \"mean\", \"std\", \"max\"])"
   ]
  },
  {
   "cell_type": "markdown",
   "id": "001a014f",
   "metadata": {},
   "source": [
    "En examinant les statistiques récapitulatives des variables de rétention par version et en les comparant avec sum_gamerounds, il y a des similitudes entre les groupes. Cependant, il serait plus utile de déterminer s'il existe une différence statistiquement significative."
   ]
  },
  {
   "cell_type": "markdown",
   "id": "77d66249",
   "metadata": {},
   "source": [
    "Des résultats similaires sont observés concernant le nombre d'utilisateurs qui sont revenus ou non 1 jour et 7 jours après l'installation du jeu. Environ 12 000 utilisateurs parmi le total des utilisateurs ont joué au jeu à la fois 1 jour et 7 jours après l'installation. 14 % des utilisateurs totaux incluent des personnes qui continueront à jouer à l'avenir."
   ]
  },
  {
   "cell_type": "code",
   "execution_count": 20,
   "id": "b9cd7be4",
   "metadata": {},
   "outputs": [
    {
     "data": {
      "text/html": [
       "<div>\n",
       "<style scoped>\n",
       "    .dataframe tbody tr th:only-of-type {\n",
       "        vertical-align: middle;\n",
       "    }\n",
       "\n",
       "    .dataframe tbody tr th {\n",
       "        vertical-align: top;\n",
       "    }\n",
       "\n",
       "    .dataframe thead th {\n",
       "        text-align: right;\n",
       "    }\n",
       "</style>\n",
       "<table border=\"1\" class=\"dataframe\">\n",
       "  <thead>\n",
       "    <tr style=\"text-align: right;\">\n",
       "      <th></th>\n",
       "      <th></th>\n",
       "      <th>count</th>\n",
       "      <th>median</th>\n",
       "      <th>mean</th>\n",
       "      <th>std</th>\n",
       "      <th>max</th>\n",
       "    </tr>\n",
       "    <tr>\n",
       "      <th>version</th>\n",
       "      <th>Retention</th>\n",
       "      <th></th>\n",
       "      <th></th>\n",
       "      <th></th>\n",
       "      <th></th>\n",
       "      <th></th>\n",
       "    </tr>\n",
       "  </thead>\n",
       "  <tbody>\n",
       "    <tr>\n",
       "      <th rowspan=\"2\" valign=\"top\">gate_30</th>\n",
       "      <th>0</th>\n",
       "      <td>38023</td>\n",
       "      <td>12.0000</td>\n",
       "      <td>28.0703</td>\n",
       "      <td>48.0175</td>\n",
       "      <td>1072</td>\n",
       "    </tr>\n",
       "    <tr>\n",
       "      <th>1</th>\n",
       "      <td>6676</td>\n",
       "      <td>127.0000</td>\n",
       "      <td>183.8863</td>\n",
       "      <td>189.6264</td>\n",
       "      <td>2961</td>\n",
       "    </tr>\n",
       "    <tr>\n",
       "      <th rowspan=\"2\" valign=\"top\">gate_40</th>\n",
       "      <th>0</th>\n",
       "      <td>38983</td>\n",
       "      <td>12.0000</td>\n",
       "      <td>28.1034</td>\n",
       "      <td>48.9278</td>\n",
       "      <td>2640</td>\n",
       "    </tr>\n",
       "    <tr>\n",
       "      <th>1</th>\n",
       "      <td>6506</td>\n",
       "      <td>133.0000</td>\n",
       "      <td>190.2824</td>\n",
       "      <td>194.2201</td>\n",
       "      <td>2294</td>\n",
       "    </tr>\n",
       "  </tbody>\n",
       "</table>\n",
       "</div>"
      ],
      "text/plain": [
       "                   count   median     mean      std   max\n",
       "version Retention                                        \n",
       "gate_30 0          38023  12.0000  28.0703  48.0175  1072\n",
       "        1           6676 127.0000 183.8863 189.6264  2961\n",
       "gate_40 0          38983  12.0000  28.1034  48.9278  2640\n",
       "        1           6506 133.0000 190.2824 194.2201  2294"
      ]
     },
     "execution_count": 20,
     "metadata": {},
     "output_type": "execute_result"
    }
   ],
   "source": [
    "ab[\"Retention\"] = np.where((ab.retention_1 == True) & (ab.retention_7 == True), 1,0)\n",
    "ab.groupby([\"version\", \"Retention\"])[\"sum_gamerounds\"].agg([\"count\", \"median\", \"mean\", \"std\", \"max\"])"
   ]
  },
  {
   "cell_type": "markdown",
   "id": "ec90ace8",
   "metadata": {},
   "source": [
    "Lorsque les variables de rétention sont combinées et que les deux groupes sont comparés, les statistiques récapitulatives sont également similaires ici."
   ]
  },
  {
   "cell_type": "code",
   "execution_count": 21,
   "id": "4c32b179",
   "metadata": {},
   "outputs": [
    {
     "data": {
      "text/html": [
       "<div>\n",
       "<style scoped>\n",
       "    .dataframe tbody tr th:only-of-type {\n",
       "        vertical-align: middle;\n",
       "    }\n",
       "\n",
       "    .dataframe tbody tr th {\n",
       "        vertical-align: top;\n",
       "    }\n",
       "\n",
       "    .dataframe thead th {\n",
       "        text-align: right;\n",
       "    }\n",
       "</style>\n",
       "<table border=\"1\" class=\"dataframe\">\n",
       "  <thead>\n",
       "    <tr style=\"text-align: right;\">\n",
       "      <th></th>\n",
       "      <th>version</th>\n",
       "      <th>NewRetention</th>\n",
       "      <th>count</th>\n",
       "      <th>median</th>\n",
       "      <th>mean</th>\n",
       "      <th>std</th>\n",
       "      <th>max</th>\n",
       "    </tr>\n",
       "  </thead>\n",
       "  <tbody>\n",
       "    <tr>\n",
       "      <th>0</th>\n",
       "      <td>gate_30</td>\n",
       "      <td>False-False</td>\n",
       "      <td>22840</td>\n",
       "      <td>6.0000</td>\n",
       "      <td>11.8197</td>\n",
       "      <td>21.6426</td>\n",
       "      <td>981</td>\n",
       "    </tr>\n",
       "    <tr>\n",
       "      <th>1</th>\n",
       "      <td>gate_30</td>\n",
       "      <td>False-True</td>\n",
       "      <td>1825</td>\n",
       "      <td>43.0000</td>\n",
       "      <td>73.1693</td>\n",
       "      <td>93.2223</td>\n",
       "      <td>1072</td>\n",
       "    </tr>\n",
       "    <tr>\n",
       "      <th>2</th>\n",
       "      <td>gate_30</td>\n",
       "      <td>True-False</td>\n",
       "      <td>13358</td>\n",
       "      <td>33.0000</td>\n",
       "      <td>49.6945</td>\n",
       "      <td>58.1254</td>\n",
       "      <td>918</td>\n",
       "    </tr>\n",
       "    <tr>\n",
       "      <th>3</th>\n",
       "      <td>gate_30</td>\n",
       "      <td>True-True</td>\n",
       "      <td>6676</td>\n",
       "      <td>127.0000</td>\n",
       "      <td>183.8863</td>\n",
       "      <td>189.6264</td>\n",
       "      <td>2961</td>\n",
       "    </tr>\n",
       "    <tr>\n",
       "      <th>4</th>\n",
       "      <td>gate_40</td>\n",
       "      <td>False-False</td>\n",
       "      <td>23597</td>\n",
       "      <td>6.0000</td>\n",
       "      <td>11.9133</td>\n",
       "      <td>20.9010</td>\n",
       "      <td>547</td>\n",
       "    </tr>\n",
       "    <tr>\n",
       "      <th>5</th>\n",
       "      <td>gate_40</td>\n",
       "      <td>False-True</td>\n",
       "      <td>1773</td>\n",
       "      <td>47.0000</td>\n",
       "      <td>75.2611</td>\n",
       "      <td>94.4780</td>\n",
       "      <td>1241</td>\n",
       "    </tr>\n",
       "    <tr>\n",
       "      <th>6</th>\n",
       "      <td>gate_40</td>\n",
       "      <td>True-False</td>\n",
       "      <td>13613</td>\n",
       "      <td>32.0000</td>\n",
       "      <td>50.0255</td>\n",
       "      <td>60.9246</td>\n",
       "      <td>2640</td>\n",
       "    </tr>\n",
       "    <tr>\n",
       "      <th>7</th>\n",
       "      <td>gate_40</td>\n",
       "      <td>True-True</td>\n",
       "      <td>6506</td>\n",
       "      <td>133.0000</td>\n",
       "      <td>190.2824</td>\n",
       "      <td>194.2201</td>\n",
       "      <td>2294</td>\n",
       "    </tr>\n",
       "  </tbody>\n",
       "</table>\n",
       "</div>"
      ],
      "text/plain": [
       "   version NewRetention  count   median     mean      std   max\n",
       "0  gate_30  False-False  22840   6.0000  11.8197  21.6426   981\n",
       "1  gate_30   False-True   1825  43.0000  73.1693  93.2223  1072\n",
       "2  gate_30   True-False  13358  33.0000  49.6945  58.1254   918\n",
       "3  gate_30    True-True   6676 127.0000 183.8863 189.6264  2961\n",
       "4  gate_40  False-False  23597   6.0000  11.9133  20.9010   547\n",
       "5  gate_40   False-True   1773  47.0000  75.2611  94.4780  1241\n",
       "6  gate_40   True-False  13613  32.0000  50.0255  60.9246  2640\n",
       "7  gate_40    True-True   6506 133.0000 190.2824 194.2201  2294"
      ]
     },
     "execution_count": 21,
     "metadata": {},
     "output_type": "execute_result"
    }
   ],
   "source": [
    "ab[\"NewRetention\"] = list(map(lambda x,y: str(x)+\"-\"+str(y), ab.retention_1, ab.retention_7))\n",
    "ab.groupby([\"version\", \"NewRetention\"]).sum_gamerounds.agg([\"count\", \"median\", \"mean\", \"std\", \"max\"]).reset_index()"
   ]
  },
  {
   "cell_type": "markdown",
   "id": "7d38246b",
   "metadata": {},
   "source": [
    "<a id='ab'></a>\n",
    "<h1 style=\"color:DarkSlateBlue\" >METHODE A/B TESTING </h1>\n",
    "\n",
    "### Hypothèses:\n",
    "- Vérifier la normalité\n",
    "- Si distribution normale, vérifier l'homogénéité\n",
    "\n",
    "### Steps:\n",
    "- Diviser et définir le groupe de contrôle et le groupe de test\n",
    "- Appliquer le test de Shapiro pour la normalité\n",
    "- Si paramétrique, appliquer le test de Levene pour l'homogénéité des variances\n",
    "- Si paramétrique + homogénéité des variances, appliquer le test T\n",
    "- Si paramétrique - homogénéité des variances, appliquer le test de Welch\n",
    "- Si non paramétrique, appliquer directement le test de Mann Whitney U\n"
   ]
  },
  {
   "cell_type": "code",
   "execution_count": 54,
   "id": "0dbe9971",
   "metadata": {},
   "outputs": [
    {
     "data": {
      "text/html": [
       "<div>\n",
       "<style scoped>\n",
       "    .dataframe tbody tr th:only-of-type {\n",
       "        vertical-align: middle;\n",
       "    }\n",
       "\n",
       "    .dataframe tbody tr th {\n",
       "        vertical-align: top;\n",
       "    }\n",
       "\n",
       "    .dataframe thead th {\n",
       "        text-align: right;\n",
       "    }\n",
       "</style>\n",
       "<table border=\"1\" class=\"dataframe\">\n",
       "  <thead>\n",
       "    <tr style=\"text-align: right;\">\n",
       "      <th></th>\n",
       "      <th>userid</th>\n",
       "      <th>version</th>\n",
       "      <th>sum_gamerounds</th>\n",
       "      <th>retention_1</th>\n",
       "      <th>retention_7</th>\n",
       "    </tr>\n",
       "  </thead>\n",
       "  <tbody>\n",
       "    <tr>\n",
       "      <th>0</th>\n",
       "      <td>116</td>\n",
       "      <td>A</td>\n",
       "      <td>3</td>\n",
       "      <td>False</td>\n",
       "      <td>False</td>\n",
       "    </tr>\n",
       "    <tr>\n",
       "      <th>1</th>\n",
       "      <td>337</td>\n",
       "      <td>A</td>\n",
       "      <td>38</td>\n",
       "      <td>True</td>\n",
       "      <td>False</td>\n",
       "    </tr>\n",
       "    <tr>\n",
       "      <th>2</th>\n",
       "      <td>377</td>\n",
       "      <td>B</td>\n",
       "      <td>165</td>\n",
       "      <td>True</td>\n",
       "      <td>False</td>\n",
       "    </tr>\n",
       "    <tr>\n",
       "      <th>3</th>\n",
       "      <td>483</td>\n",
       "      <td>B</td>\n",
       "      <td>1</td>\n",
       "      <td>False</td>\n",
       "      <td>False</td>\n",
       "    </tr>\n",
       "    <tr>\n",
       "      <th>4</th>\n",
       "      <td>488</td>\n",
       "      <td>B</td>\n",
       "      <td>179</td>\n",
       "      <td>True</td>\n",
       "      <td>True</td>\n",
       "    </tr>\n",
       "  </tbody>\n",
       "</table>\n",
       "</div>"
      ],
      "text/plain": [
       "   userid version  sum_gamerounds  retention_1  retention_7\n",
       "0     116       A               3        False        False\n",
       "1     337       A              38         True        False\n",
       "2     377       B             165         True        False\n",
       "3     483       B               1        False        False\n",
       "4     488       B             179         True         True"
      ]
     },
     "execution_count": 54,
     "metadata": {},
     "output_type": "execute_result"
    }
   ],
   "source": [
    "# Definir les groupes A/B \n",
    "ab[\"version\"] = np.where(ab.version == \"gate_30\", \"A\", \"B\")\n",
    "ab.head()"
   ]
  },
  {
   "cell_type": "code",
   "execution_count": 23,
   "id": "75fd99ae",
   "metadata": {},
   "outputs": [
    {
     "name": "stdout",
     "output_type": "stream",
     "text": [
      "# A/B Testing Hypothesis\n",
      "H0: A == B\n",
      "H1: A != B \n",
      "\n"
     ]
    },
    {
     "data": {
      "text/html": [
       "<div>\n",
       "<style scoped>\n",
       "    .dataframe tbody tr th:only-of-type {\n",
       "        vertical-align: middle;\n",
       "    }\n",
       "\n",
       "    .dataframe tbody tr th {\n",
       "        vertical-align: top;\n",
       "    }\n",
       "\n",
       "    .dataframe thead th {\n",
       "        text-align: right;\n",
       "    }\n",
       "</style>\n",
       "<table border=\"1\" class=\"dataframe\">\n",
       "  <thead>\n",
       "    <tr style=\"text-align: right;\">\n",
       "      <th></th>\n",
       "      <th>Test Type</th>\n",
       "      <th>AB Hypothesis</th>\n",
       "      <th>p-value</th>\n",
       "      <th>Comment</th>\n",
       "    </tr>\n",
       "  </thead>\n",
       "  <tbody>\n",
       "    <tr>\n",
       "      <th>0</th>\n",
       "      <td>Non-Parametric</td>\n",
       "      <td>Reject H0</td>\n",
       "      <td>0.0254</td>\n",
       "      <td>A/B groups are not similar!</td>\n",
       "    </tr>\n",
       "  </tbody>\n",
       "</table>\n",
       "</div>"
      ],
      "text/plain": [
       "        Test Type AB Hypothesis  p-value                      Comment\n",
       "0  Non-Parametric     Reject H0   0.0254  A/B groups are not similar!"
      ]
     },
     "execution_count": 23,
     "metadata": {},
     "output_type": "execute_result"
    }
   ],
   "source": [
    "# Appliquons la fonction AB_Test -  A/B Testing\n",
    "AB_Test(dataframe=ab, group = \"version\", target = \"sum_gamerounds\")"
   ]
  },
  {
   "cell_type": "markdown",
   "id": "8e3dc03d",
   "metadata": {},
   "source": [
    "### Interpretation du resultat\n",
    "En résultat, le test de Mann Whitney U nous donne une P-value de 0.0254 < 0.05 ,\n",
    "nous rejetons l'hypothèse nulle et concluons que les groupes A/B ne sont pas similaires !"
   ]
  },
  {
   "cell_type": "markdown",
   "id": "08e8cbd0",
   "metadata": {},
   "source": [
    "### Quel niveau présente plus d'avantages en termes de rétention des joueurs ?\n"
   ]
  },
  {
   "cell_type": "code",
   "execution_count": 24,
   "id": "1af03ec7",
   "metadata": {},
   "outputs": [
    {
     "data": {
      "text/plain": [
       "(version\n",
       " A   0.4482\n",
       " B   0.4423\n",
       " Name: retention_1, dtype: float64,\n",
       " version\n",
       " A   0.1902\n",
       " B   0.1820\n",
       " Name: retention_7, dtype: float64)"
      ]
     },
     "execution_count": 24,
     "metadata": {},
     "output_type": "execute_result"
    }
   ],
   "source": [
    "ab.groupby(\"version\").retention_1.mean(), ab.groupby(\"version\").retention_7.mean()"
   ]
  },
  {
   "cell_type": "markdown",
   "id": "3052859b",
   "metadata": {},
   "source": [
    "**La rétention moyenne à 1 jour et à 7 jours est plus élevée lorsque le portail est au niveau 30 plutôt qu'au niveau 40.**"
   ]
  },
  {
   "cell_type": "markdown",
   "id": "4a9106b3",
   "metadata": {},
   "source": [
    "<div style=\"background-color: RGB(58,69,203);\" >\n",
    "<h2 style=\"margin: auto;color:RGB(255,255,255) ;padding: 20px;margin-left: 4.5em; text-indent: -4.5em\">5 - CONCLUSION</h2>\n",
    "</div>"
   ]
  },
  {
   "cell_type": "markdown",
   "id": "90a98ae1",
   "metadata": {},
   "source": [
    "\n",
    "\n",
    "### Rappelez-vous le problème commercial !\n",
    "\n",
    "**À mesure que les joueurs progressent dans le jeu, ils rencontrent des portails qui les obligent à attendre un certain temps avant de pouvoir progresser ou effectuer un achat dans l'application. Dans ce projet, nous analyserons le résultat d'un test A/B où le premier portail dans Cookie Cats a été déplacé du niveau 30 au niveau 40. En particulier, nous analyserons l'impact sur la rétention des joueurs et les manches de jeu.**\n",
    "\n",
    "Tout d'abord, nous avons étudié les relations et structures dans les données. Il n'y avait pas de problème de valeurs manquantes, mais un problème de valeurs aberrantes dans les données. Les statistiques récapitulatives et les graphiques nous ont aidés à comprendre les données et le problème.\n",
    "\n",
    "Avant le test A/B, nous avons partagé des détails sur le jeu, les joueurs, les problèmes .</br>\n",
    "Nous avons suggeré au CODIR l'ouverture d'une analyse \"Users Churn\" spécifique pour mieux comprendre l'attrition des clients.\n",
    "\n",
    "Après avoir appliqué le test A/B, les résultats de l'analyse nous ont donné des informations importantes. Le test de Shapiro a rejeté l'hypothèse nulle pour l'hypothèse de normalité. Par conséquent, nous avons dû appliquer un test non paramétrique appelé Mann Whitney U pour comparer les deux groupes. En résultat, le test de Mann Whitney U a rejeté l'hypothèse nulle et nous avons appris que les groupes A/B ne sont pas similaires !\n",
    "\n",
    "En résumé, il existe une différence statistiquement significative entre les deux groupes concernant le déplacement du premier portail du niveau 30 au niveau 40 pour les manches de jeu.\n",
    "\n",
    "\n"
   ]
  },
  {
   "cell_type": "markdown",
   "id": "e15fab98",
   "metadata": {},
   "source": [
    "[RETOUR AU SOMMAIRE](#00)"
   ]
  }
 ],
 "metadata": {
  "kernelspec": {
   "display_name": "Python 3 (ipykernel)",
   "language": "python",
   "name": "python3"
  },
  "language_info": {
   "codemirror_mode": {
    "name": "ipython",
    "version": 3
   },
   "file_extension": ".py",
   "mimetype": "text/x-python",
   "name": "python",
   "nbconvert_exporter": "python",
   "pygments_lexer": "ipython3",
   "version": "3.9.7"
  }
 },
 "nbformat": 4,
 "nbformat_minor": 5
}
